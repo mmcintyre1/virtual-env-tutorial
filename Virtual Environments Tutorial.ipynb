{
 "cells": [
  {
   "cell_type": "code",
   "execution_count": 10,
   "metadata": {},
   "outputs": [
    {
     "data": {
      "text/html": [
       ".boxBorder {\n",
       "     border: 2px solid #990066;\n",
       "     padding: 10px;\n",
       "     outline: #990066 solid 5px;\n",
       "     outline-offset: 5px;\n",
       "   }"
      ],
      "text/plain": [
       "<IPython.core.display.HTML object>"
      ]
     },
     "execution_count": 10,
     "metadata": {},
     "output_type": "execute_result"
    }
   ],
   "source": [
    "from IPython.core.display import HTML\n",
    "\n",
    "def set_css_style(css_file_path):\n",
    "    \"\"\"\n",
    "    Read the custom CSS file and load it into Jupyter.\n",
    "    Pass the file path to the CSS file.\n",
    "    \"\"\"\n",
    "\n",
    "    styles = open(css_file_path, \"r\").read()\n",
    "    return HTML(styles)\n",
    "\n",
    "set_css_style('./static/custom/custom.css')"
   ]
  },
  {
   "cell_type": "markdown",
   "metadata": {},
   "source": [
    "## Virtual Environments\n",
    "### First, why should I bother?  \n",
    "\n",
    "There are a few reasons to use a virtual environment, but if you're just writing scripts to clean up an excel file, or automate your toaster, then you might not need to bother with a militant adherence to virtual environments.  If, however, you want to isolate dev environments, plan on distributing or deploying your code, or like to hammer the pip install like a magarita at a Jimmy Buffet concert, then virtual environments are the thing for you!\n",
    "\n",
    "So, I think I can distill this argument into 2 bits (or bytes, or whatever). At it's core, virtual environments allow you to encapsulate your coding environment, and if you've ever glanced at hacker news or reading the introduction to a computer science book, you'd know that encpasulation is good!™"
   ]
  },
  {
   "cell_type": "markdown",
   "metadata": {},
   "source": [
    "#### 1.  Virtual Environment allow you to get back up and running faster\n",
    "Imagine this scenario.  IT takes your computer, saying it needs to give you a new one for whatever Kafka-esque reason.  They promise that all your applications and files will be maintained, but when you get it back, your python distro is missing!  All your scripts relied on whatever packages you had installed, and now you need to run your scripts, see the billion import errors, and reinstall everything again.  Ugh!  Or, you could have been like Peggy the proficient programmer and used virtual environments, and kept all dependencies in a `requirements.txt` file, and you would have been one command line call away from getting back to the meaningful work of slamming your head against the wall trying to figure out whatever lxml's API call is for stripping out tags but leaving the text.  Winning!"
   ]
  },
  {
   "cell_type": "markdown",
   "metadata": {},
   "source": [
    "#### 2. Virtual Environments stop circular dependencies from breaking your applications\n",
    "So, you've got some projects.  Pretty nice.  It'd be a shame if something were to happen to their imports.  \n",
    "\n",
    "Imagine you've got this project that makes a dinner, and at the top you are importing the module stew.  stew is importing potato, and everything is a-ok.  But, you are also importing a module called au-gratin, which is also importing potato.  No problem, you might say.  Well imagine that stew relies on potato v.1.1, and au-gratin relies on potato v 2.1, and the starchiness module introduced in v2.0 is not backwards compatible, making previous versions of potato obselete.  Now you are, via the transitive property or something like that, importing two incompatible versions of potato, and this might result in some wicked Heisen-bugs that are difficult to debug and get in the way of making your partner a nice digital display of food for your anniversary that you've never forgotten.  \n",
    "\n",
    "You could cross your fingers and hope this auto-magically resolves itself, or you could specify that you only want the version of au-gratin that relies on potato v1.1, and nothing will break.  Then you can note this down in a requirements.txt file, and every other weekend warrior chef could install the correct dependencies and wow their partner with their culinary cunning.   "
   ]
  },
  {
   "cell_type": "markdown",
   "metadata": {},
   "source": [
    "### dev environments are like palettes\n",
    "If you normally only import yellow ochre and titanium hwhite, you might not run into import problems.  But if you start importing sap green and cadmium yellow and alizarin crimson and prussian blue (numbers 160 and 165) that palette might become quite a bit messy, the colors bleeding into each other making that weird gray Play-Doh color you get when you mix > 2.5 colors together (seriously, how does red, yellow, and green mix to make gray?), or you might run into a tall task to recreate the palette to get to work painting happy little trees as expediently as possible.  "
   ]
  },
  {
   "cell_type": "markdown",
   "metadata": {},
   "source": [
    "![SegmentLocal](static/bob_ross.gif \"segment\")"
   ]
  },
  {
   "cell_type": "markdown",
   "metadata": {},
   "source": [
    "All right, now that I've finished attempting to justify my poor choice of an English degree (and hopefully everyone is on board with the argument you need virtual environments), the discerning folks might ask, how do we do this?  Well, do I have the answer for you! \n",
    "\n",
    "There are a few solutions in this space, but for the interest of brevity, we are going to look at the built-in virtualenv (venv) and virtualenvwrapper.  If, after this little tutorial, you decide virtual environments complete you and you've finally found your calling, there's always pyenv to explore managing multiple versions of python, or tox to make testing across multiple versions easier.  \n",
    "\n",
    "So, without further adieu, here we go. "
   ]
  },
  {
   "cell_type": "markdown",
   "metadata": {},
   "source": [
    "## virtualenv / venv\n",
    "The library we can start using is virtualenv, or venv.  For this bit, I'm going to be using windows, but this is all available on linux and other unix systems as well, and the commands are mostly the same. \n",
    "\n",
    "Once you've got the terminal open, the command is as simple as: \n",
    "\n",
    "`py -m venv env`\n",
    "\n",
    "We can break this down. \n",
    "\n",
    "**py** -- calling your python.exe interpreter (we could also use python here, but py is aliased to python so they are the same thing)\n",
    "\n",
    "**-m** -- call whatever comes next as a module, so the main method executes\n",
    "\n",
    "**venv** -- the name of the library you are calling\n",
    "\n",
    "**env** -- the name of the environment folder.  This can be a full path, or a relative one. env is the standard name, although you might see .env (the preceding dot is a symbol that this is an important folder that shouldn't be touched.  See .git or .idea or .mikes-bank-account-details)\n",
    "\n",
    "Typically you can put this env folder with the main directory of the script, as these things are easy to spin up or spin down and don't affect your global version of python at all.  \n",
    "\n",
    "From here, all we need to do is `activate` the virtual environment, which just means typing the path to the activate.bat script, which is located at `.\\env\\Scripts\\activate`.  If you did everything correctly, you should see something like the below cmd screen."
   ]
  },
  {
   "cell_type": "markdown",
   "metadata": {},
   "source": [
    "![SegmentLocal](static/venv_cmd.png \"segment\")"
   ]
  },
  {
   "cell_type": "markdown",
   "metadata": {},
   "source": [
    "Congratulations, you've done it!  Now, once you see that `(env)` in front of the path in your terminal, you can treat this like you would any other python thing, pip installing gravity and all that good news.  This will not install the package into your main version of python, so your environment's will be decoupled and as clean as Howard Hughes's hands after a vigorous scrubbing.\n",
    "\n",
    "At any given point, we can capture all our dependencies into a requirements.txt file with a command like: \n",
    "\n",
    "`pip freeze > requirements.txt`\n",
    "\n",
    "You can give that requirements.txt file a different location, otherwise it'll just deposit it wherever the cmd is currently located.  \n",
    "\n",
    "This requirements.txt is filled with stuff like: \n",
    "\n",
    "`pathlib==1.0.1`\n",
    "\n",
    "and then you can feed that to a new virtual environment pip to install all dependencies recursively.  All you need to do is set up a new environment, then reference the requirements.txt file (by the way, we can call this file whatever the heck we want, but requirements.txt is the standard and conveys a whole bunch of meaning so you don't have to call the file `this-is-all-the-important-stuff-please-install-this-mike-said-something-about-potatoes-and-he-was-rather-insistent-on-it.txt`\n",
    "\n",
    "All you need to do is use the command \n",
    "\n",
    "`pip install -r requirements.txt` \n",
    "\n",
    "in your newly created environment, and pip will take care of the rest of the work.  \n"
   ]
  },
  {
   "cell_type": "markdown",
   "metadata": {},
   "source": [
    "Ok.  gif tax.  More than halfway there!  \n",
    "\n",
    "![SegmentLocal](static/finnish.gif \"segment\")\n"
   ]
  },
  {
   "cell_type": "markdown",
   "metadata": {},
   "source": [
    "## virtualenvwrapper\n",
    "\n",
    "All right, you might be asking yourself what happens when I have "
   ]
  }
 ],
 "metadata": {
  "kernelspec": {
   "display_name": "Python 3",
   "language": "python",
   "name": "python3"
  },
  "language_info": {
   "codemirror_mode": {
    "name": "ipython",
    "version": 3
   },
   "file_extension": ".py",
   "mimetype": "text/x-python",
   "name": "python",
   "nbconvert_exporter": "python",
   "pygments_lexer": "ipython3",
   "version": "3.7.4"
  }
 },
 "nbformat": 4,
 "nbformat_minor": 2
}
